{
 "cells": [
  {
   "cell_type": "code",
   "execution_count": 2,
   "id": "926f0016",
   "metadata": {},
   "outputs": [
    {
     "name": "stdout",
     "output_type": "stream",
     "text": [
      "nilai uas :75\n",
      "nilai uts :75\n",
      "nilai quiz :95\n",
      "nilai tugas :85\n",
      "nilai kehadiran :100\n",
      "total nilai 86.0\n",
      "nilai lulus\n"
     ]
    }
   ],
   "source": [
    "a= int(input('nilai uas :'))\n",
    "b= int(input('nilai uts :'))\n",
    "c= int(input('nilai quiz :'))\n",
    "d= int(input('nilai tugas :'))\n",
    "e= int(input('nilai kehadiran :'))\n",
    "nilai = ((a+b+c+d+e)/5)\n",
    "print('total nilai', nilai)\n",
    "\n",
    "if nilai == '85':\n",
    "    print('Predikat A')\n",
    "elif nilai == '75':\n",
    "    print('Predikat B')\n",
    "elif nilai == '65':\n",
    "    print('Predikat C')\n",
    "elif nilai == '55':\n",
    "    print('Predikat D')\n",
    "elif nilai == '45':\n",
    "    print('predikat E')\n",
    "else:\n",
    "    print('nilai lulus')"
   ]
  },
  {
   "cell_type": "code",
   "execution_count": 8,
   "id": "bec4509f",
   "metadata": {},
   "outputs": [
    {
     "name": "stdout",
     "output_type": "stream",
     "text": [
      "Jika terbukti masukkan T jika tidak masukan F\n",
      "Apakah FS terbukti merencanakan pembunuhan terhadap korban!\n",
      "Apakah FS terbukti membunuh korban!\n",
      "Apakah FS terbukti membuat berita bohong pada publik!\n",
      "Berdasarkan tuduhan diatas apakah FS terbukti melakukan hal tersebutT\n",
      "Wajib dihukum mati\n"
     ]
    }
   ],
   "source": [
    "print('Jika terbukti masukkan T jika tidak masukan F')\n",
    "print('Apakah FS terbukti merencanakan pembunuhan terhadap korban!')\n",
    "print('Apakah FS terbukti membunuh korban!')\n",
    "print('Apakah FS terbukti membuat berita bohong pada publik!')\n",
    "\n",
    "FS = input('Berdasarkan tuduhan diatas apakah FS terbukti melakukan hal tersebut')\n",
    "\n",
    "if  FS == 'T':\n",
    "    print('Wajib dihukum mati')\n",
    "else:\n",
    "    print('Bebas dari hukuman mati')"
   ]
  },
  {
   "cell_type": "code",
   "execution_count": 9,
   "id": "1f8aaa93",
   "metadata": {},
   "outputs": [
    {
     "name": "stdout",
     "output_type": "stream",
     "text": [
      "Masukkan tanggal dari 1-75\n",
      "Hari Jumat\n"
     ]
    }
   ],
   "source": [
    "tanggal = int(input('Masukkan tanggal dari 1-7'))\n",
    "if tanggal == 1:\n",
    "    print('Hari Senin')\n",
    "elif tanggal == 2:\n",
    "    print('Hari Selasa')\n",
    "elif tanggal == 3:\n",
    "    print('Hari Rabu')\n",
    "elif tanggal == 4:\n",
    "    print('Hari Kamis')\n",
    "elif tanggal == 5:\n",
    "    print('Hari Jumat')\n",
    "elif tanggal == 6:\n",
    "    print('Hari Sabtu')\n",
    "elif tanggal == 7:\n",
    "    print('hari Minggu')\n",
    "else:\n",
    "    print('Tidak ada hari selain hari Senin, Selasa, Rabu, Kamis, Jumat, Sabtu, Minggu')"
   ]
  },
  {
   "cell_type": "code",
   "execution_count": null,
   "id": "8b9a9824",
   "metadata": {},
   "outputs": [],
   "source": []
  }
 ],
 "metadata": {
  "kernelspec": {
   "display_name": "Python 3 (ipykernel)",
   "language": "python",
   "name": "python3"
  },
  "language_info": {
   "codemirror_mode": {
    "name": "ipython",
    "version": 3
   },
   "file_extension": ".py",
   "mimetype": "text/x-python",
   "name": "python",
   "nbconvert_exporter": "python",
   "pygments_lexer": "ipython3",
   "version": "3.9.12"
  }
 },
 "nbformat": 4,
 "nbformat_minor": 5
}
